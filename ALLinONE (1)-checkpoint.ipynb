{
 "cells": [
  {
   "cell_type": "code",
   "execution_count": 2,
   "id": "56cc9022",
   "metadata": {},
   "outputs": [
    {
     "name": "stdout",
     "output_type": "stream",
     "text": [
      "Requirement already satisfied: opencv-python in c:\\users\\gargi saha\\anaconda3\\lib\\site-packages (4.9.0.80)\n",
      "Requirement already satisfied: numpy>=1.21.2 in c:\\users\\gargi saha\\anaconda3\\lib\\site-packages (from opencv-python) (1.24.3)\n"
     ]
    }
   ],
   "source": [
    "!pip install opencv-python"
   ]
  },
  {
   "cell_type": "code",
   "execution_count": 11,
   "id": "ae134add",
   "metadata": {},
   "outputs": [
    {
     "name": "stdout",
     "output_type": "stream",
     "text": [
      "Requirement already satisfied: numpy in c:\\users\\gargi saha\\anaconda3\\lib\\site-packages (1.24.3)\n"
     ]
    }
   ],
   "source": [
    "!pip install numpy"
   ]
  },
  {
   "cell_type": "code",
   "execution_count": 7,
   "id": "5a0a0df3",
   "metadata": {},
   "outputs": [
    {
     "name": "stdout",
     "output_type": "stream",
     "text": [
      "Requirement already satisfied: scikit-learn in c:\\users\\gargi saha\\anaconda3\\lib\\site-packages (1.3.0)\n",
      "Requirement already satisfied: numpy>=1.17.3 in c:\\users\\gargi saha\\anaconda3\\lib\\site-packages (from scikit-learn) (1.24.3)\n",
      "Requirement already satisfied: scipy>=1.5.0 in c:\\users\\gargi saha\\anaconda3\\lib\\site-packages (from scikit-learn) (1.11.1)\n",
      "Requirement already satisfied: joblib>=1.1.1 in c:\\users\\gargi saha\\anaconda3\\lib\\site-packages (from scikit-learn) (1.2.0)\n",
      "Requirement already satisfied: threadpoolctl>=2.0.0 in c:\\users\\gargi saha\\anaconda3\\lib\\site-packages (from scikit-learn) (2.2.0)\n"
     ]
    }
   ],
   "source": [
    "!pip install scikit-learn"
   ]
  },
  {
   "cell_type": "code",
   "execution_count": 12,
   "id": "363312ca-0efc-452f-bb83-fc125808141f",
   "metadata": {},
   "outputs": [
    {
     "name": "stdout",
     "output_type": "stream",
     "text": [
      "Collecting data\n",
      "Collecting data\n",
      "Collecting data\n"
     ]
    }
   ],
   "source": [
    "import time\n",
    "import os\n",
    "import cv2\n",
    "\n",
    "\n",
    "DATA_DIR = \"./data\"\n",
    "if not os.path.exists(DATA_DIR):\n",
    "    os.makedirs(DATA_DIR)\n",
    "\n",
    "num_classes = 3\n",
    "dataset_size = 2000\n",
    "\n",
    "cap = cv2.VideoCapture(0)\n",
    "for i in range(num_classes):\n",
    "    if not os.path.exists(os.path.join(DATA_DIR, str(i))):\n",
    "        os.makedirs(os.path.join(DATA_DIR, str(i)))\n",
    "    print(\"Collecting data\")\n",
    "    done = False\n",
    "\n",
    "    while True:\n",
    "        ret, frame = cap.read()\n",
    "        frame = cv2.flip(frame, 1) \n",
    "        cv2.putText(frame, \"Q tiple Chobi tulbo ' \", (10, 50), cv2.FONT_HERSHEY_SIMPLEX, 1.3, (0,0,0), 3, cv2.LINE_AA)\n",
    "        cv2.imshow(\"Frame\", frame)\n",
    "        if cv2.waitKey(25) == ord(\"q\"):\n",
    "            break\n",
    "\n",
    "    count = 0\n",
    "    while count < dataset_size:\n",
    "        ret, frame = cap.read()\n",
    "        cv2.imshow(\"Frame\", frame)\n",
    "        \n",
    "        cv2.waitKey(25)\n",
    "        cv2.imwrite(os.path.join(DATA_DIR, str(i), \"{}.jpg\".format(count)), frame)\n",
    "        count += 1\n",
    "        if (count+1)%500==0:\n",
    "            time.sleep(10)\n",
    "            \n",
    "    \n",
    "    \n",
    "\n",
    "cap.release()\n",
    "cv2.destroyAllWindows()\n"
   ]
  },
  {
   "cell_type": "markdown",
   "id": "21aaa1bd",
   "metadata": {},
   "source": []
  },
  {
   "cell_type": "markdown",
   "id": "c5061c01",
   "metadata": {},
   "source": []
  },
  {
   "cell_type": "markdown",
   "id": "a4aa2d1d-54ac-469e-8b28-f819e2f186a8",
   "metadata": {},
   "source": [
    "PICTURE CAPTURE"
   ]
  },
  {
   "cell_type": "code",
   "execution_count": 16,
   "id": "133d136d-ad79-4824-885d-dbabe1f03849",
   "metadata": {},
   "outputs": [
    {
     "name": "stderr",
     "output_type": "stream",
     "text": [
      "C:\\Users\\gargi saha\\anaconda3\\New folder\\Lib\\site-packages\\google\\protobuf\\symbol_database.py:55: UserWarning: SymbolDatabase.GetPrototype() is deprecated. Please use message_factory.GetMessageClass() instead. SymbolDatabase.GetPrototype() will be removed soon.\n",
      "  warnings.warn('SymbolDatabase.GetPrototype() is deprecated. Please '\n"
     ]
    }
   ],
   "source": [
    "\n",
    "import os\n",
    "import pickle\n",
    "import mediapipe as mp\n",
    "import cv2\n",
    "\n",
    "mp_hands = mp.solutions.hands\n",
    "mp_drawing = mp.solutions.drawing_utils\n",
    "mp_drawing_styles = mp.solutions.drawing_styles\n",
    "hands = mp_hands.Hands(static_image_mode=True, min_detection_confidence=0.5,max_num_hands=1)\n",
    "data_dir = \"./data\"\n",
    "data = []\n",
    "labels = []\n",
    "\n",
    "for dir_ in os.listdir(data_dir):\n",
    "    for img_path in os.listdir(os.path.join(data_dir, dir_)):\n",
    "        data_aux = []\n",
    "        img = cv2.imread(os.path.join(data_dir, dir_, img_path))\n",
    "        img_rgb = cv2.cvtColor(img, cv2.COLOR_BGR2RGB)\n",
    "        results = hands.process(img_rgb)\n",
    "        if results.multi_hand_landmarks:\n",
    "            for hand_landmarks in results.multi_hand_landmarks:\n",
    "                for i in range(len(hand_landmarks.landmark)):\n",
    "                    x = hand_landmarks.landmark[i].x\n",
    "                    y = hand_landmarks.landmark[i].y\n",
    "                    data_aux.append(x)\n",
    "                    data_aux.append(y)\n",
    "            data.append(data_aux)\n",
    "            labels.append(dir_)\n",
    "file = open(\"data.pickle\", \"wb\")\n",
    "pickle.dump({\"data\": data, \"labels\": labels}, file)\n",
    "file.close()\n"
   ]
  },
  {
   "cell_type": "code",
   "execution_count": 30,
   "id": "28460dfa-dacb-42a5-8aa1-74bd2c992f4c",
   "metadata": {},
   "outputs": [
    {
     "name": "stdout",
     "output_type": "stream",
     "text": [
      "99.01185770750988% classified correctly\n"
     ]
    }
   ],
   "source": [
    "\n",
    "import pickle\n",
    "from sklearn.ensemble import RandomForestClassifier\n",
    "from sklearn.model_selection import train_test_split\n",
    "from sklearn.metrics import accuracy_score\n",
    "import numpy as np\n",
    "\n",
    "\n",
    "data_dict = pickle.load(open(\"./data.pickle\", \"rb\"))\n",
    "data = np.asarray(data_dict[\"data\"])\n",
    "labels = np.asarray(data_dict[\"labels\"])\n",
    "x_train, x_test, y_train, y_test = train_test_split(data, labels, test_size=0.2, shuffle=True, stratify=labels)\n",
    "model = RandomForestClassifier()\n",
    "model.fit(x_train, y_train)\n",
    "y_predict = model.predict(x_test)\n",
    "score = accuracy_score(y_predict, y_test)\n",
    "print(\"{}% classified correctly\".format(score * 100))\n",
    "f = open(\"model.p\", \"wb\")\n",
    "pickle.dump({\"model\": model}, f)\n",
    "f.close()\n"
   ]
  },
  {
   "cell_type": "code",
   "execution_count": null,
   "id": "56fd2fbb-9d43-474f-a795-338541714088",
   "metadata": {},
   "outputs": [],
   "source": [
    "\n",
    "import pickle\n",
    "import cv2\n",
    "import mediapipe as mp\n",
    "import numpy as np\n",
    "\n",
    "\n",
    "model_dict = pickle.load(open(\"./model.p\", \"rb\"))\n",
    "model = model_dict[\"model\"]\n",
    "capture = cv2.VideoCapture(0)\n",
    "mp_hands = mp.solutions.hands\n",
    "mp_drawing = mp.solutions.drawing_utils\n",
    "mp_drawing_styles = mp.solutions.drawing_styles\n",
    "hands = mp_hands.Hands(static_image_mode=False, min_detection_confidence=0.9, min_tracking_confidence=0.9,max_num_hands=5)\n",
    "labels_dict = {0: \"GOOD\", 1: \"peace\", 2: \"bad\"}\n",
    "\n",
    "while True:\n",
    "    data_aux = []\n",
    "    x_ = []\n",
    "    y_ = []\n",
    "    ret, frame = capture.read()\n",
    "    H, W, _ = frame.shape\n",
    "    frame_rgb = cv2.cvtColor(frame, cv2.COLOR_BGR2RGB)\n",
    "    results = hands.process(frame_rgb)\n",
    "\n",
    "    if results.multi_hand_landmarks:\n",
    "        for hand_landmarks in results.multi_hand_landmarks:\n",
    "            mp_drawing.draw_landmarks(\n",
    "                frame,\n",
    "                hand_landmarks,\n",
    "                mp_hands.HAND_CONNECTIONS,\n",
    "                mp_drawing_styles.get_default_hand_landmarks_style(),\n",
    "                mp_drawing_styles.get_default_hand_connections_style())\n",
    "\n",
    "            for i in range(len(hand_landmarks.landmark)):\n",
    "                x = hand_landmarks.landmark[i].x\n",
    "                y = hand_landmarks.landmark[i].y\n",
    "                data_aux.append(x)\n",
    "                data_aux.append(y)\n",
    "                x_.append(x)\n",
    "                y_.append(y)\n",
    "            x1 = int(min(x_) * W) - 10\n",
    "            y1 = int(min(y_) * H) - 10\n",
    "            x2 = int(max(x_) * W) - 10\n",
    "            y2 = int(max(y_) * H) - 10\n",
    "            prediction = model.predict([np.asarray(data_aux)])\n",
    "            predicted_sign = labels_dict[int(prediction[0])]\n",
    "#             cv2.rectangle(frame, (x1, y1), (x2, y2), (0, 0, 0), 2)\n",
    "            cv2.putText(frame, predicted_sign, (x1, y1 - 10), cv2.FONT_HERSHEY_SIMPLEX, 1.3, (0, 0, 0), 3, cv2.LINE_AA)\n",
    "            data_aux = []\n",
    "            x_ = []\n",
    "            y_ = []\n",
    "\n",
    "    cv2.imshow(\"Handy\", frame)\n",
    "    if cv2.waitKey(1) & 0xFF == ord('q'):\n",
    "        break\n",
    "\n",
    "capture.release()\n",
    "cv2.destroyAllWindows()\n"
   ]
  },
  {
   "cell_type": "code",
   "execution_count": null,
   "id": "542f9494-23cf-4bb5-8949-e7f74fd72d82",
   "metadata": {},
   "outputs": [],
   "source": []
  }
 ],
 "metadata": {
  "kernelspec": {
   "display_name": "Python 3 (ipykernel)",
   "language": "python",
   "name": "python3"
  },
  "language_info": {
   "codemirror_mode": {
    "name": "ipython",
    "version": 3
   },
   "file_extension": ".py",
   "mimetype": "text/x-python",
   "name": "python",
   "nbconvert_exporter": "python",
   "pygments_lexer": "ipython3",
   "version": "3.11.5"
  }
 },
 "nbformat": 4,
 "nbformat_minor": 5
}
